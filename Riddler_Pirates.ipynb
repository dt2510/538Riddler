{
 "cells": [
  {
   "cell_type": "markdown",
   "metadata": {},
   "source": [
    "Problem Description: https://fivethirtyeight.com/features/pirates-monkeys-and-coconuts-oh-my/\n",
    "\n",
    "> Seven pirates wash ashore on a deserted island after their ship sinks. In order to survive, they gather as many coconuts as they can find and throw them into a central pile. As the sun sets, they all go to sleep.\n",
    "\n",
    "> One pirate wakes up in the middle of the night. Being the greedy person he is, this pirate decides to take some coconuts from the pile and hide them for himself. As he approaches the pile, though, he notices a monkey watching him. To keep the monkey quiet, the pirate tosses it one coconut from the pile. He then divides the rest of the pile into seven equally sized bunches and hides one of the bunches in the bushes. Finally, he recombines the remaining coconuts into a single pile and goes back to sleep. (Note that individual coconuts are very hard, and therefore indivisible.)\n",
    "\n",
    ">Later that night, a second pirate wakes up with the same idea. She tosses the monkey one coconut from the central pile, divides the pile into seven bunches, hides her bunch, recombines the rest, and goes back to sleep. After that, a third pirate wakes up and does the same thing. Then a fourth. Then a fifth, and so on until all seven pirates have hidden a share of the coconuts.\n",
    "\n",
    ">In the morning, the pirates look at the remaining central pile and notice that it has gotten quite small. They decide to split the pile into seven equal bunches and take one bunch each. (Note: The monkey does not get one this time.)\n",
    "\n",
    ">If there were $N$ coconuts in the pile originally, what is the smallest possible value of $N$?\n",
    "\n",
    "### Solution\n",
    "\n",
    "Suppose there are $N_0$ coconuts in the pile initially.\n",
    "\n",
    "After the first pirate takes her stash, there are $N_1 = \\frac{6}{7}(N_0-1)$. At every step thereafter we have:\n",
    "\n",
    "$$N_{k+1} = \\frac{6}{7}(N_k - 1) $$\n",
    "\n",
    "This is a <a href = https://en.wikipedia.org/wiki/Linear_difference_equation> linear difference equation </a> with constant coefficients, and has a closed-form expression:\n",
    "\n",
    "$$ N_k = \\frac{6^{k}(N_0 + 6)}{7^k} - 6 $$\n",
    "\n",
    "The problem imposes two restrictions:\n",
    "\n",
    "* $N_0, N_1, ..., N_7$ must all be integers\n",
    "* In the final step, the pile can be split evenly among the 7 pirates; in other words, $N_7 \\equiv 0 \\mod 7$\n",
    "\n",
    "After $k$ steps, the pile will be integer-valued if and only if \n",
    "\n",
    "$$6^k(N_0 + 6) \\equiv 0 \\mod 7^k$$\n",
    "\n",
    "Since 6 and 7 are coprime, this will happen if and only if $N_0 \\equiv -6 \\mod 7^k$. However, if $N_0 \\equiv -6 \\mod 7^k$, then $N_0 \\equiv -6 \\mod 7^j$ for all $j < k$. So a necessary and sufficent condition for the first restriction is $N_0 \\equiv -6 \\mod 7^7$. Since $7^7 = 823543,$ the smallest such number of $823537$.\n",
    "\n",
    "Given $N_0 = 823537$, we can calculate $N_7 = 279930$, which is divisible by 7. Since the second requirement is also satisfied, we've found the solution to the problem. The Python code below verifies that this is the only solution for $N_0 < 10^6$."
   ]
  },
  {
   "cell_type": "code",
   "execution_count": 1,
   "metadata": {},
   "outputs": [
    {
     "data": {
      "text/plain": [
       "array([[823537]])"
      ]
     },
     "execution_count": 1,
     "metadata": {},
     "output_type": "execute_result"
    }
   ],
   "source": [
    "import numpy as np\n",
    "\n",
    "def pile_size(n):\n",
    "    #Given N_0, calculates N_1, ..., N_7 using the formula above\n",
    "    k = np.arange(1,8)\n",
    "    k.shape = (1,7)\n",
    "    arg = 6**k*n - 6*(7**k - 6**k)\n",
    "    return arg/7**k\n",
    "\n",
    "def search(n_min, n_max):\n",
    "    #Looks for an N_0 that gives integer piles for each N_1, ..., N_7 and N_7 = 0 mod 7\n",
    "    ns = np.arange(n_min, n_max)\n",
    "    ns.shape = (ns.size, 1)\n",
    "    \n",
    "    #Find values that give integer N_1, ..., N_7\n",
    "    candidates = ns[np.where(np.max(np.mod(pile_size(ns),1),axis = 1) == 0)]\n",
    "    \n",
    "    #Check if N_7 is divisible by 7\n",
    "    solns = np.where(np.mod(pile_size(candidates)[:,-1],7) == 0)\n",
    "    return candidates[solns]\n",
    "\n",
    "search(1,10**6)"
   ]
  },
  {
   "cell_type": "markdown",
   "metadata": {},
   "source": [
    "### Solution for $p$ pirates\n",
    "\n",
    "Now consider any amount of pirates, $p \\in \\mathbb{N}$. For $k \\in \\{1, ..., p\\}$, we have\n",
    "\n",
    "$$N_k = \\frac{(p-1)^k(N_0 + p-1)}{p^k} - (p-1) $$\n",
    "\n",
    "Since $p-1$ and $p$ are relatively prime, this will be integer valued if and only if $N_0 \\equiv 1 - p \\mod p^k$. Thus $N_1, ..., N_p$ are integer-valued if and only if $N_0 = cp^p + 1 - p$ for some integer $c \\geq 1$. In this case,\n",
    "\n",
    "$$N_p = c(p-1)^p - (p-1) $$\n",
    "\n",
    "We also require $N_p$ be divisible by $p$, so\n",
    "\n",
    "$$ c(-1)^p + 1 \\equiv 0 \\mod p$$\n",
    "\n",
    "If $p$ is odd, $c = 1$ satisfies this equation, so the minimal number of coconuts is $N_0 = p^p + 1 - p$. If $p$ is even, however, we need $c \\equiv -1 \\mod p$. Thus for even $p$ the minimal number of coconuts is $N_0 = (p-1)p^p + 1 - p$."
   ]
  },
  {
   "cell_type": "code",
   "execution_count": 2,
   "metadata": {},
   "outputs": [
    {
     "data": {
      "image/png": "[encoded data removed]",
      "text/plain": [
       "<Figure size 432x288 with 1 Axes>"
      ]
     },
     "metadata": {},
     "output_type": "display_data"
    }
   ],
   "source": [
    "import matplotlib.pyplot as plt\n",
    "\n",
    "def coconuts(p):\n",
    "    #p = no. of pirates\n",
    "    evens = (p-1)*p**p + 1-p\n",
    "    odds = p**p + 1 - p\n",
    "    return (np.mod(p,2) == 0)*evens + (np.mod(p,2) == 1)*odds\n",
    "\n",
    "xs = np.arange(1,12)\n",
    "plt.plot(xs, coconuts(xs))\n",
    "plt.semilogy()\n",
    "plt.title('No. Coconuts Required')\n",
    "plt.xlabel('No. Pirates')\n",
    "plt.show()"
   ]
  },
  {
   "cell_type": "markdown",
   "metadata": {},
   "source": [
    "### An unexpected connection\n",
    "\n",
    "You might wonder how much of the original pile is left in the morning. For the $p$-pirate problem, the size of the resulting pile is\n",
    "\n",
    "$$ N_p \\approx \\left(\\frac{p-1}{p}\\right)^p N_0 $$\n",
    "\n",
    "As $p$ gets large, we have\n",
    "\n",
    "$$\\left(\\frac{p-1}{p}\\right)^p = \\left(1 - \\frac{1}{p}\\right)^p \\rightarrow e^{-1} \\approx 36.7\\% $$\n",
    "\n",
    "Thus the proportion of the pile remaining stablizes at approximately $1/e$."
   ]
  }
 ],
 "metadata": {
  "kernelspec": {
   "display_name": "Python 3",
   "language": "python",
   "name": "python3"
  },
  "language_info": {
   "codemirror_mode": {
    "name": "ipython",
    "version": 3
   },
   "file_extension": ".py",
   "mimetype": "text/x-python",
   "name": "python",
   "nbconvert_exporter": "python",
   "pygments_lexer": "ipython3",
   "version": "3.6.1"
  }
 },
 "nbformat": 4,
 "nbformat_minor": 2
}
